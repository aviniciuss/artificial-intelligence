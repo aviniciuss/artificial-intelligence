{
 "cells": [
  {
   "cell_type": "markdown",
   "metadata": {},
   "source": [
    "# Redes Neurais Artificiais\n",
    "## Perceptron\n",
    "\n",
    "Neurônio Artificial\n",
    "![](../images/perceptron.png)\n",
    "\n",
    "\n",
    "Neurônio Artificial vs  Neurônio Biológico\n",
    "![](../images/neuronio_matematico_e_biologico.png)\n",
    "\n",
    "Alguns dados interessantes: \n",
    "\n",
    "- Cérebro humano possui 85 bilhões de neurônios\n",
    "- Cérebro de um gato possui 1 bilhão de neurônios\n",
    "- Cérebro de um rato possui 75 milhões de neurônios\n",
    "- Cérebro de uma barata possui 1 millhão de neurônios"
   ]
  },
  {
   "cell_type": "code",
   "execution_count": null,
   "metadata": {
    "collapsed": true
   },
   "outputs": [],
   "source": []
  },
  {
   "cell_type": "markdown",
   "metadata": {},
   "source": [
    "##### Deep Learning, o Estado da Arte!\n",
    "![](../images/deep_learning_1.png)"
   ]
  }
 ],
 "metadata": {
  "kernelspec": {
   "display_name": "Python 3",
   "language": "python",
   "name": "python3"
  },
  "language_info": {
   "codemirror_mode": {
    "name": "ipython",
    "version": 3
   },
   "file_extension": ".py",
   "mimetype": "text/x-python",
   "name": "python",
   "nbconvert_exporter": "python",
   "pygments_lexer": "ipython3",
   "version": "3.6.1"
  }
 },
 "nbformat": 4,
 "nbformat_minor": 2
}

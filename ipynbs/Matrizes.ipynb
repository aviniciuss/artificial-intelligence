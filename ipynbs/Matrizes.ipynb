{
 "cells": [
  {
   "cell_type": "markdown",
   "metadata": {},
   "source": [
    "### Álgebra linear (vídeos)\n",
    "- [https://pt.khanacademy.org/math/linear-algebra](https://pt.khanacademy.org/math/linear-algebra)"
   ]
  },
  {
   "cell_type": "code",
   "execution_count": 1,
   "metadata": {
    "collapsed": true
   },
   "outputs": [],
   "source": [
    "import tensorflow as tf\n",
    "import numpy as np"
   ]
  },
  {
   "cell_type": "code",
   "execution_count": 9,
   "metadata": {
    "collapsed": true
   },
   "outputs": [],
   "source": [
    "matrix1 = np.array([(2,2,2),(2,2,2),(2,2,2)], dtype='int32')\n",
    "matrix2 = np.array([(1,1,1),(1,1,1),(1,1,1)], dtype='int32')"
   ]
  },
  {
   "cell_type": "code",
   "execution_count": 10,
   "metadata": {},
   "outputs": [
    {
     "name": "stdout",
     "output_type": "stream",
     "text": [
      "Matrix1 =\n",
      "[[2 2 2]\n",
      " [2 2 2]\n",
      " [2 2 2]]\n",
      "Matrix2 =\n",
      "[[1 1 1]\n",
      " [1 1 1]\n",
      " [1 1 1]]\n"
     ]
    }
   ],
   "source": [
    "print(\"Matrix1 =\")\n",
    "print(matrix1)\n",
    "print(\"Matrix2 =\")\n",
    "print(matrix2)"
   ]
  },
  {
   "cell_type": "code",
   "execution_count": 11,
   "metadata": {
    "collapsed": true
   },
   "outputs": [],
   "source": [
    "matrix1 = tf.constant(matrix1)\n",
    "matrix2 = tf.constant(matrix2)"
   ]
  },
  {
   "cell_type": "code",
   "execution_count": 16,
   "metadata": {},
   "outputs": [],
   "source": [
    "matrix_product = tf.matmul(matrix1, matrix2)\n",
    "matrix_sum = tf.add(matrix1, matrix2)"
   ]
  },
  {
   "cell_type": "code",
   "execution_count": 19,
   "metadata": {},
   "outputs": [
    {
     "name": "stdout",
     "output_type": "stream",
     "text": [
      "Matrix3 =\n",
      "[[ 2.  7.  2.]\n",
      " [ 1.  4.  2.]\n",
      " [ 9.  0.  2.]]\n"
     ]
    }
   ],
   "source": [
    "matrix3 = np.array([(2,7,2),(1,4,2),(9,0,2)], dtype='float32')\n",
    "print(\"Matrix3 =\")\n",
    "print(matrix3)"
   ]
  },
  {
   "cell_type": "code",
   "execution_count": 20,
   "metadata": {},
   "outputs": [],
   "source": [
    "matrix_det = tf.matrix_determinant(matrix3)"
   ]
  },
  {
   "cell_type": "code",
   "execution_count": 22,
   "metadata": {},
   "outputs": [
    {
     "name": "stdout",
     "output_type": "stream",
     "text": [
      "matrix1 * matrix2 =\n",
      "[[6 6 6]\n",
      " [6 6 6]\n",
      " [6 6 6]]\n",
      "matrix1 + matrix2 =\n",
      "[[3 3 3]\n",
      " [3 3 3]\n",
      " [3 3 3]]\n",
      "matrix3 determinant result =\n",
      "56.0\n"
     ]
    }
   ],
   "source": [
    "with tf.Session() as sess:\n",
    "    result1 = sess.run(matrix_product)\n",
    "    result2 = sess.run(matrix_sum)\n",
    "    result3 = sess.run(matrix_det)\n",
    "    \n",
    "print(\"matrix1 * matrix2 =\")\n",
    "print(result1)\n",
    "print(\"matrix1 + matrix2 =\")\n",
    "print(result2)\n",
    "print(\"matrix3 determinant result =\")\n",
    "print(result3)"
   ]
  },
  {
   "cell_type": "code",
   "execution_count": null,
   "metadata": {
    "collapsed": true
   },
   "outputs": [],
   "source": []
  }
 ],
 "metadata": {
  "kernelspec": {
   "display_name": "Python 3",
   "language": "python",
   "name": "python3"
  },
  "language_info": {
   "codemirror_mode": {
    "name": "ipython",
    "version": 3
   },
   "file_extension": ".py",
   "mimetype": "text/x-python",
   "name": "python",
   "nbconvert_exporter": "python",
   "pygments_lexer": "ipython3",
   "version": "3.6.1"
  }
 },
 "nbformat": 4,
 "nbformat_minor": 2
}

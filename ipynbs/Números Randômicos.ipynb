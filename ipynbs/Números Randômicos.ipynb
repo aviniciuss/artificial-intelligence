{
 "cells": [
  {
   "cell_type": "code",
   "execution_count": 1,
   "metadata": {
    "collapsed": true
   },
   "outputs": [],
   "source": [
    "import tensorflow as tf\n",
    "import matplotlib.pyplot as plt"
   ]
  },
  {
   "cell_type": "code",
   "execution_count": 7,
   "metadata": {},
   "outputs": [
    {
     "name": "stdout",
     "output_type": "stream",
     "text": [
      "[ 0.72564071 -0.37137455  1.37542689  4.01798964 -1.34235799  0.11305578\n",
      " -2.14670706  0.84427869  2.81351781  1.86666501 -1.33576584 -0.31718013\n",
      " -2.20099354 -0.97360277  3.73751473  1.67457736 -4.37279081  2.12840939\n",
      "  1.1004144  -0.50343668  1.82508314  3.75474977 -0.7582112  -2.4234705\n",
      "  0.55399555 -1.42877078 -2.87109733  1.35885227  1.00157821 -0.61609709\n",
      "  1.23681676 -1.48055089 -0.38718817  0.89900988 -2.83834648 -1.99405408\n",
      "  1.40111589 -1.30227196  0.53828347 -0.36753735 -0.2287022   2.10644698\n",
      " -3.50151753  0.20174     0.95666099  0.75190109  0.27620983  1.62173283\n",
      "  0.8195889   2.96989393  1.59262288  0.74589437 -5.49718904  1.77368701\n",
      " -0.2016252  -1.7658062   0.38349333 -1.99337852  0.48920012  2.20669484\n",
      " -0.74744523 -0.35138649 -3.35092807 -0.82558757  2.27562666 -2.05579042\n",
      " -0.25430015 -2.9053452   2.71458268  1.9421984   2.73777127  3.04492521\n",
      "  3.02872586 -1.32982612  2.88912868  2.99027562 -2.60064793 -0.11743394\n",
      " -0.688923    1.31328285 -2.73674679  0.40581918 -1.7245847  -3.00484776\n",
      "  1.60896826  2.0996809  -0.39773163  1.46647632  3.9027307   6.36377859\n",
      "  2.20500565 -3.59254003  2.1910634  -0.09721246  1.533566   -1.3463701\n",
      " -0.5128665   0.80877715 -3.24017406  0.31029502]\n"
     ]
    },
    {
     "data": {
      "image/png": "[encoded data removed]",
      "text/plain": [
       "<matplotlib.figure.Figure at 0x7f53d0412ef0>"
      ]
     },
     "metadata": {},
     "output_type": "display_data"
    }
   ],
   "source": [
    "norm = tf.random_normal([100], mean=0, stddev=2)\n",
    "with tf.Session() as sess:\n",
    "    print(norm.eval())\n",
    "    plt.hist(norm.eval(), normed=True)\n",
    "    plt.show()"
   ]
  },
  {
   "cell_type": "code",
   "execution_count": 6,
   "metadata": {},
   "outputs": [
    {
     "name": "stdout",
     "output_type": "stream",
     "text": [
      "[ 0.76592827  0.43702209  0.79888141  0.78040719  0.79728889  0.23747671\n",
      "  0.0649879   0.45720971  0.67580831  0.41063225  0.97345996  0.86904073\n",
      "  0.27396154  0.44164276  0.32253814  0.18483078  0.18730462  0.68321252\n",
      "  0.45766199  0.16493642  0.27376282  0.44988     0.17041194  0.19781768\n",
      "  0.47685134  0.68959987  0.97352529  0.71213984  0.51694977  0.30323553\n",
      "  0.35016334  0.90206337  0.02933431  0.49864912  0.55144668  0.72668874\n",
      "  0.26131737  0.8584516   0.98656082  0.67157698  0.79962206  0.76824462\n",
      "  0.89268613  0.87736213  0.89294422  0.50991452  0.38336229  0.71642876\n",
      "  0.55115235  0.75986695  0.13774431  0.09179223  0.12889516  0.69369006\n",
      "  0.29522872  0.35477209  0.07755911  0.91361821  0.3120147   0.54375255\n",
      "  0.53156352  0.22780466  0.99817896  0.85089791  0.42580235  0.55281961\n",
      "  0.95218503  0.80478776  0.22285759  0.62776256  0.44238412  0.31672132\n",
      "  0.85450685  0.92284858  0.43282557  0.45247149  0.36115456  0.54295301\n",
      "  0.12426138  0.45527565  0.87354243  0.58288252  0.1060468   0.60595775\n",
      "  0.74150252  0.08160484  0.81335747  0.53783298  0.85131454  0.01393068\n",
      "  0.49673641  0.45571947  0.64242029  0.59501684  0.45587778  0.00641775\n",
      "  0.91982198  0.63598967  0.1151861   0.76270032]\n"
     ]
    },
    {
     "data": {
      "image/png": "[encoded data removed]",
      "text/plain": [
       "<matplotlib.figure.Figure at 0x7f53d0488588>"
      ]
     },
     "metadata": {},
     "output_type": "display_data"
    }
   ],
   "source": [
    "uniform = tf.random_uniform([100], minval=0, maxval=1, dtype=tf.float32)\n",
    "with tf.Session() as sess:\n",
    "    print(uniform.eval())\n",
    "    plt.hist(uniform.eval(), normed=True)\n",
    "    plt.show()"
   ]
  },
  {
   "cell_type": "code",
   "execution_count": null,
   "metadata": {
    "collapsed": true
   },
   "outputs": [],
   "source": []
  }
 ],
 "metadata": {
  "kernelspec": {
   "display_name": "Python 3",
   "language": "python",
   "name": "python3"
  },
  "language_info": {
   "codemirror_mode": {
    "name": "ipython",
    "version": 3
   },
   "file_extension": ".py",
   "mimetype": "text/x-python",
   "name": "python",
   "nbconvert_exporter": "python",
   "pygments_lexer": "ipython3",
   "version": "3.6.1"
  }
 },
 "nbformat": 4,
 "nbformat_minor": 2
}

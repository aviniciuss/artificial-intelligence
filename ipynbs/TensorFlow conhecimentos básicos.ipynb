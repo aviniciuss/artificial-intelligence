{
 "cells": [
  {
   "cell_type": "markdown",
   "metadata": {},
   "source": [
    "### TensorFlow\n",
    "\n",
    "A versão open source foi liberada pela Google em novembro de 2015."
   ]
  },
  {
   "cell_type": "code",
   "execution_count": 1,
   "metadata": {
    "collapsed": true
   },
   "outputs": [],
   "source": [
    "import tensorflow as tf"
   ]
  },
  {
   "cell_type": "code",
   "execution_count": 2,
   "metadata": {},
   "outputs": [
    {
     "data": {
      "text/plain": [
       "b'Hello, TensorFlow!'"
      ]
     },
     "execution_count": 2,
     "metadata": {},
     "output_type": "execute_result"
    }
   ],
   "source": [
    "hello = tf.constant('Hello, TensorFlow!')\n",
    "sess = tf.Session()\n",
    "sess.run(hello)"
   ]
  },
  {
   "cell_type": "code",
   "execution_count": 3,
   "metadata": {},
   "outputs": [
    {
     "name": "stdout",
     "output_type": "stream",
     "text": [
      "Tensor 0-dimencional:  Tensor(\"Const_1:0\", shape=(), dtype=int32)\n",
      "Tensor 1-dimencional:  Tensor(\"Const_2:0\", shape=(2,), dtype=int32)\n",
      "Tensor 2-dimencional:  Tensor(\"Const_3:0\", shape=(2, 2), dtype=int32)\n"
     ]
    }
   ],
   "source": [
    "A = tf.constant(1)\n",
    "B = tf.constant([1, 2])\n",
    "C = tf.constant([[1, 2], [3, 4]])\n",
    "\n",
    "print('Tensor 0-dimencional: ', A)\n",
    "print('Tensor 1-dimencional: ', B)\n",
    "print('Tensor 2-dimencional: ', C)"
   ]
  },
  {
   "cell_type": "markdown",
   "metadata": {},
   "source": [
    "#### Placeholders são utilizados para criar espaços ou posições para utilizar em uma sessão."
   ]
  },
  {
   "cell_type": "code",
   "execution_count": 4,
   "metadata": {},
   "outputs": [
    {
     "name": "stdout",
     "output_type": "stream",
     "text": [
      "Utilizando placeholders na função de multiplicação: 25\n"
     ]
    }
   ],
   "source": [
    "X = tf.placeholder(tf.int32)\n",
    "Y = tf.placeholder(tf.int32)\n",
    "\n",
    "F = tf.multiply(X, Y)\n",
    "\n",
    "with tf.Session() as sess:\n",
    "    print('Utilizando placeholders na função de multiplicação:', sess.run(F, feed_dict={X:5, Y:5}))"
   ]
  },
  {
   "cell_type": "code",
   "execution_count": null,
   "metadata": {
    "collapsed": true
   },
   "outputs": [],
   "source": []
  }
 ],
 "metadata": {
  "kernelspec": {
   "display_name": "Python 3",
   "language": "python",
   "name": "python3"
  },
  "language_info": {
   "codemirror_mode": {
    "name": "ipython",
    "version": 3
   },
   "file_extension": ".py",
   "mimetype": "text/x-python",
   "name": "python",
   "nbconvert_exporter": "python",
   "pygments_lexer": "ipython3",
   "version": "3.6.1"
  }
 },
 "nbformat": 4,
 "nbformat_minor": 2
}

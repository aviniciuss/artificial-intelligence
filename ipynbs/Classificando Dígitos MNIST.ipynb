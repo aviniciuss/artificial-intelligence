{
 "cells": [
  {
   "cell_type": "code",
   "execution_count": 1,
   "metadata": {
    "collapsed": true
   },
   "outputs": [],
   "source": [
    "import numpy as np\n",
    "import pandas as pd"
   ]
  },
  {
   "cell_type": "code",
   "execution_count": 2,
   "metadata": {
    "collapsed": true
   },
   "outputs": [],
   "source": [
    "df = pd.read_csv('../datasets/mnist.csv')"
   ]
  },
  {
   "cell_type": "code",
   "execution_count": 3,
   "metadata": {},
   "outputs": [
    {
     "data": {
      "text/html": [
       "<div>\n",
       "<style>\n",
       "    .dataframe thead tr:only-child th {\n",
       "        text-align: right;\n",
       "    }\n",
       "\n",
       "    .dataframe thead th {\n",
       "        text-align: left;\n",
       "    }\n",
       "\n",
       "    .dataframe tbody tr th {\n",
       "        vertical-align: top;\n",
       "    }\n",
       "</style>\n",
       "<table border=\"1\" class=\"dataframe\">\n",
       "  <thead>\n",
       "    <tr style=\"text-align: right;\">\n",
       "      <th></th>\n",
       "      <th>label</th>\n",
       "      <th>pixel0</th>\n",
       "      <th>pixel1</th>\n",
       "      <th>pixel2</th>\n",
       "      <th>pixel3</th>\n",
       "      <th>pixel4</th>\n",
       "      <th>pixel5</th>\n",
       "      <th>pixel6</th>\n",
       "      <th>pixel7</th>\n",
       "      <th>pixel8</th>\n",
       "      <th>...</th>\n",
       "      <th>pixel774</th>\n",
       "      <th>pixel775</th>\n",
       "      <th>pixel776</th>\n",
       "      <th>pixel777</th>\n",
       "      <th>pixel778</th>\n",
       "      <th>pixel779</th>\n",
       "      <th>pixel780</th>\n",
       "      <th>pixel781</th>\n",
       "      <th>pixel782</th>\n",
       "      <th>pixel783</th>\n",
       "    </tr>\n",
       "  </thead>\n",
       "  <tbody>\n",
       "    <tr>\n",
       "      <th>0</th>\n",
       "      <td>1</td>\n",
       "      <td>0</td>\n",
       "      <td>0</td>\n",
       "      <td>0</td>\n",
       "      <td>0</td>\n",
       "      <td>0</td>\n",
       "      <td>0</td>\n",
       "      <td>0</td>\n",
       "      <td>0</td>\n",
       "      <td>0</td>\n",
       "      <td>...</td>\n",
       "      <td>0</td>\n",
       "      <td>0</td>\n",
       "      <td>0</td>\n",
       "      <td>0</td>\n",
       "      <td>0</td>\n",
       "      <td>0</td>\n",
       "      <td>0</td>\n",
       "      <td>0</td>\n",
       "      <td>0</td>\n",
       "      <td>0</td>\n",
       "    </tr>\n",
       "    <tr>\n",
       "      <th>1</th>\n",
       "      <td>0</td>\n",
       "      <td>0</td>\n",
       "      <td>0</td>\n",
       "      <td>0</td>\n",
       "      <td>0</td>\n",
       "      <td>0</td>\n",
       "      <td>0</td>\n",
       "      <td>0</td>\n",
       "      <td>0</td>\n",
       "      <td>0</td>\n",
       "      <td>...</td>\n",
       "      <td>0</td>\n",
       "      <td>0</td>\n",
       "      <td>0</td>\n",
       "      <td>0</td>\n",
       "      <td>0</td>\n",
       "      <td>0</td>\n",
       "      <td>0</td>\n",
       "      <td>0</td>\n",
       "      <td>0</td>\n",
       "      <td>0</td>\n",
       "    </tr>\n",
       "    <tr>\n",
       "      <th>2</th>\n",
       "      <td>1</td>\n",
       "      <td>0</td>\n",
       "      <td>0</td>\n",
       "      <td>0</td>\n",
       "      <td>0</td>\n",
       "      <td>0</td>\n",
       "      <td>0</td>\n",
       "      <td>0</td>\n",
       "      <td>0</td>\n",
       "      <td>0</td>\n",
       "      <td>...</td>\n",
       "      <td>0</td>\n",
       "      <td>0</td>\n",
       "      <td>0</td>\n",
       "      <td>0</td>\n",
       "      <td>0</td>\n",
       "      <td>0</td>\n",
       "      <td>0</td>\n",
       "      <td>0</td>\n",
       "      <td>0</td>\n",
       "      <td>0</td>\n",
       "    </tr>\n",
       "    <tr>\n",
       "      <th>3</th>\n",
       "      <td>4</td>\n",
       "      <td>0</td>\n",
       "      <td>0</td>\n",
       "      <td>0</td>\n",
       "      <td>0</td>\n",
       "      <td>0</td>\n",
       "      <td>0</td>\n",
       "      <td>0</td>\n",
       "      <td>0</td>\n",
       "      <td>0</td>\n",
       "      <td>...</td>\n",
       "      <td>0</td>\n",
       "      <td>0</td>\n",
       "      <td>0</td>\n",
       "      <td>0</td>\n",
       "      <td>0</td>\n",
       "      <td>0</td>\n",
       "      <td>0</td>\n",
       "      <td>0</td>\n",
       "      <td>0</td>\n",
       "      <td>0</td>\n",
       "    </tr>\n",
       "    <tr>\n",
       "      <th>4</th>\n",
       "      <td>0</td>\n",
       "      <td>0</td>\n",
       "      <td>0</td>\n",
       "      <td>0</td>\n",
       "      <td>0</td>\n",
       "      <td>0</td>\n",
       "      <td>0</td>\n",
       "      <td>0</td>\n",
       "      <td>0</td>\n",
       "      <td>0</td>\n",
       "      <td>...</td>\n",
       "      <td>0</td>\n",
       "      <td>0</td>\n",
       "      <td>0</td>\n",
       "      <td>0</td>\n",
       "      <td>0</td>\n",
       "      <td>0</td>\n",
       "      <td>0</td>\n",
       "      <td>0</td>\n",
       "      <td>0</td>\n",
       "      <td>0</td>\n",
       "    </tr>\n",
       "  </tbody>\n",
       "</table>\n",
       "<p>5 rows × 785 columns</p>\n",
       "</div>"
      ],
      "text/plain": [
       "   label  pixel0  pixel1  pixel2  pixel3  pixel4  pixel5  pixel6  pixel7  \\\n",
       "0      1       0       0       0       0       0       0       0       0   \n",
       "1      0       0       0       0       0       0       0       0       0   \n",
       "2      1       0       0       0       0       0       0       0       0   \n",
       "3      4       0       0       0       0       0       0       0       0   \n",
       "4      0       0       0       0       0       0       0       0       0   \n",
       "\n",
       "   pixel8    ...     pixel774  pixel775  pixel776  pixel777  pixel778  \\\n",
       "0       0    ...            0         0         0         0         0   \n",
       "1       0    ...            0         0         0         0         0   \n",
       "2       0    ...            0         0         0         0         0   \n",
       "3       0    ...            0         0         0         0         0   \n",
       "4       0    ...            0         0         0         0         0   \n",
       "\n",
       "   pixel779  pixel780  pixel781  pixel782  pixel783  \n",
       "0         0         0         0         0         0  \n",
       "1         0         0         0         0         0  \n",
       "2         0         0         0         0         0  \n",
       "3         0         0         0         0         0  \n",
       "4         0         0         0         0         0  \n",
       "\n",
       "[5 rows x 785 columns]"
      ]
     },
     "execution_count": 3,
     "metadata": {},
     "output_type": "execute_result"
    }
   ],
   "source": [
    "df.head()"
   ]
  },
  {
   "cell_type": "code",
   "execution_count": 4,
   "metadata": {
    "collapsed": true
   },
   "outputs": [],
   "source": [
    "df_train = df.iloc[:33600,:]\n",
    "\n",
    "X_train = df_train.iloc[:, 1:].values / 255.\n",
    "Y_train = df_train['label'].values\n",
    "y_train_onehot = pd.get_dummies(df_train['label']).values"
   ]
  },
  {
   "cell_type": "code",
   "execution_count": 5,
   "metadata": {
    "collapsed": true
   },
   "outputs": [],
   "source": [
    "df_test = df.iloc[33600:, :]\n",
    "\n",
    "X_test = df_test.iloc[:, 1:].values / 255.\n",
    "Y_test = df_test['label'].values"
   ]
  },
  {
   "cell_type": "code",
   "execution_count": 6,
   "metadata": {},
   "outputs": [
    {
     "name": "stderr",
     "output_type": "stream",
     "text": [
      "Using TensorFlow backend.\n"
     ]
    }
   ],
   "source": [
    "from keras.models import Sequential\n",
    "from keras.layers import Dense, Activation, Dropout"
   ]
  },
  {
   "cell_type": "markdown",
   "metadata": {},
   "source": [
    "### Rede Neural com 1 camada\n",
    "\n",
    "![](../images/camada_unica.png)"
   ]
  },
  {
   "cell_type": "code",
   "execution_count": 11,
   "metadata": {},
   "outputs": [
    {
     "name": "stdout",
     "output_type": "stream",
     "text": [
      "Epoch 1/10\n",
      "33600/33600 [==============================] - 6s - loss: 0.9634 - acc: 0.7718     \n",
      "Epoch 2/10\n",
      "33600/33600 [==============================] - 6s - loss: 0.5380 - acc: 0.8644     \n",
      "Epoch 3/10\n",
      "33600/33600 [==============================] - 5s - loss: 0.4610 - acc: 0.8785     \n",
      "Epoch 4/10\n",
      "33600/33600 [==============================] - 6s - loss: 0.4230 - acc: 0.8859     \n",
      "Epoch 5/10\n",
      "33600/33600 [==============================] - 5s - loss: 0.3992 - acc: 0.8912     \n",
      "Epoch 6/10\n",
      "33600/33600 [==============================] - 6s - loss: 0.3826 - acc: 0.8955     \n",
      "Epoch 7/10\n",
      "33600/33600 [==============================] - 7s - loss: 0.3700 - acc: 0.8984     \n",
      "Epoch 8/10\n",
      "33600/33600 [==============================] - 8s - loss: 0.3599 - acc: 0.9004     \n",
      "Epoch 9/10\n",
      "33600/33600 [==============================] - 7s - loss: 0.3517 - acc: 0.9034     \n",
      "Epoch 10/10\n",
      "33600/33600 [==============================] - 6s - loss: 0.3448 - acc: 0.9046     \n"
     ]
    },
    {
     "data": {
      "text/plain": [
       "<keras.callbacks.History at 0x7f277f249518>"
      ]
     },
     "execution_count": 11,
     "metadata": {},
     "output_type": "execute_result"
    }
   ],
   "source": [
    "# input_dim -> entrada de inputs do dataset\n",
    "# units -> unidades de saída do dataset no cado digitos de 0-9\n",
    "\n",
    "# Criando a pilha de sequencia de camadas da RNA\n",
    "model = Sequential()\n",
    "\n",
    "# Adicionando a primeira e única camada\n",
    "model.add(Dense(input_dim=784, units=10))\n",
    "\n",
    "# função de ativação softmax que gera as probabilidades\n",
    "model.add(Activation('softmax'))\n",
    "\n",
    "# função de perda categorical_crossentropy, pois temos um dataset multiclass\n",
    "# otimizador stochastic gradient descent\n",
    "model.compile(loss='categorical_crossentropy', optimizer='sgd', metrics=['accuracy'])\n",
    "\n",
    "model.fit(X_train, y_train_onehot)"
   ]
  },
  {
   "cell_type": "code",
   "execution_count": 12,
   "metadata": {},
   "outputs": [
    {
     "name": "stdout",
     "output_type": "stream",
     "text": [
      "7808/8400 [==========================>...] - ETA: 0s\n",
      "\n",
      "Accuracy of:  0.905833333333\n"
     ]
    }
   ],
   "source": [
    "y_prediction = model.predict_classes(X_test)\n",
    "print('\\n\\nAccuracy of: ', np.sum(y_prediction == Y_test) / float(len(Y_test)))"
   ]
  },
  {
   "cell_type": "markdown",
   "metadata": {},
   "source": [
    "### Rede Neural com 2 camadas\n",
    "\n",
    "![](../images/camada_oculta.png)"
   ]
  },
  {
   "cell_type": "code",
   "execution_count": 9,
   "metadata": {},
   "outputs": [
    {
     "name": "stdout",
     "output_type": "stream",
     "text": [
      "Epoch 1/10\n",
      "33600/33600 [==============================] - 8s - loss: 0.6318 - acc: 0.8262     \n",
      "Epoch 2/10\n",
      "33600/33600 [==============================] - 8s - loss: 0.3597 - acc: 0.8971     \n",
      "Epoch 3/10\n",
      "33600/33600 [==============================] - 8s - loss: 0.3253 - acc: 0.9065     \n",
      "Epoch 4/10\n",
      "33600/33600 [==============================] - 8s - loss: 0.3089 - acc: 0.9120     \n",
      "Epoch 5/10\n",
      "33600/33600 [==============================] - 9s - loss: 0.2976 - acc: 0.9151     \n",
      "Epoch 6/10\n",
      "33600/33600 [==============================] - 9s - loss: 0.2901 - acc: 0.9181     \n",
      "Epoch 7/10\n",
      "33600/33600 [==============================] - 9s - loss: 0.2840 - acc: 0.9196     \n",
      "Epoch 8/10\n",
      "33600/33600 [==============================] - 9s - loss: 0.2786 - acc: 0.9213     \n",
      "Epoch 9/10\n",
      "33600/33600 [==============================] - 9s - loss: 0.2751 - acc: 0.9229     \n",
      "Epoch 10/10\n",
      "33600/33600 [==============================] - 9s - loss: 0.2714 - acc: 0.9230     \n"
     ]
    },
    {
     "data": {
      "text/plain": [
       "<keras.callbacks.History at 0x7f277efb2e10>"
      ]
     },
     "execution_count": 9,
     "metadata": {},
     "output_type": "execute_result"
    }
   ],
   "source": [
    "model = Sequential()\n",
    "\n",
    "# adicionando camada oculta com 100 neurônios \n",
    "model.add(Dense(input_dim=784, units=100))\n",
    "\n",
    "model.add(Dense(units=100))\n",
    "\n",
    "model.add(Dense(units=10))\n",
    "\n",
    "model.add(Activation('softmax'))\n",
    "\n",
    "model.compile(loss='categorical_crossentropy', optimizer='sgd', metrics=['accuracy'])\n",
    "\n",
    "model.fit(X_train, y_train_onehot)"
   ]
  },
  {
   "cell_type": "code",
   "execution_count": 10,
   "metadata": {},
   "outputs": [
    {
     "name": "stdout",
     "output_type": "stream",
     "text": [
      "7904/8400 [===========================>..] - ETA: 0s\n",
      "\n",
      "Accuracy of:  0.917261904762\n"
     ]
    }
   ],
   "source": [
    "y_prediction = model.predict_classes(X_test)\n",
    "print('\\n\\nAccuracy of: ', np.sum(y_prediction == Y_test) / float(len(Y_test)))"
   ]
  },
  {
   "cell_type": "markdown",
   "metadata": {},
   "source": [
    "### Rede Neural com 3 camadas"
   ]
  },
  {
   "cell_type": "code",
   "execution_count": 7,
   "metadata": {},
   "outputs": [
    {
     "name": "stdout",
     "output_type": "stream",
     "text": [
      "Epoch 1/10\n",
      "33600/33600 [==============================] - 9s - loss: 0.6378 - acc: 0.8250     \n",
      "Epoch 2/10\n",
      "33600/33600 [==============================] - 9s - loss: 0.3566 - acc: 0.8964     \n",
      "Epoch 3/10\n",
      "33600/33600 [==============================] - 9s - loss: 0.3226 - acc: 0.9073     \n",
      "Epoch 4/10\n",
      "33600/33600 [==============================] - 9s - loss: 0.3060 - acc: 0.9126     \n",
      "Epoch 5/10\n",
      "33600/33600 [==============================] - 9s - loss: 0.2956 - acc: 0.9161     \n",
      "Epoch 6/10\n",
      "33600/33600 [==============================] - 9s - loss: 0.2882 - acc: 0.9177     \n",
      "Epoch 7/10\n",
      "33600/33600 [==============================] - 9s - loss: 0.2814 - acc: 0.9194     \n",
      "Epoch 8/10\n",
      "33600/33600 [==============================] - 9s - loss: 0.2770 - acc: 0.9216     \n",
      "Epoch 9/10\n",
      "33600/33600 [==============================] - 9s - loss: 0.2730 - acc: 0.9216     \n",
      "Epoch 10/10\n",
      "33600/33600 [==============================] - 9s - loss: 0.2695 - acc: 0.9238     \n"
     ]
    },
    {
     "data": {
      "text/plain": [
       "<keras.callbacks.History at 0x7f277f1fcf98>"
      ]
     },
     "execution_count": 7,
     "metadata": {},
     "output_type": "execute_result"
    }
   ],
   "source": [
    "model = Sequential()\n",
    "\n",
    "# adicionando camada oculta com 100 neurônios \n",
    "model.add(Dense(input_dim=784, units=100))\n",
    "\n",
    "# adicionando camada oculta com 100 neurônios \n",
    "model.add(Dense(units=100))\n",
    "\n",
    "model.add(Dense(units=10))\n",
    "\n",
    "model.add(Activation('softmax'))\n",
    "\n",
    "model.compile(loss='categorical_crossentropy', optimizer='sgd', metrics=['accuracy'])\n",
    "\n",
    "model.fit(X_train, y_train_onehot)"
   ]
  },
  {
   "cell_type": "code",
   "execution_count": 8,
   "metadata": {},
   "outputs": [
    {
     "name": "stdout",
     "output_type": "stream",
     "text": [
      "8128/8400 [============================>.] - ETA: 0s\n",
      "\n",
      "Accuracy of:  0.919523809524\n"
     ]
    }
   ],
   "source": [
    "y_prediction = model.predict_classes(X_test)\n",
    "print('\\n\\nAccuracy of: ', np.sum(y_prediction == Y_test) / float(len(Y_test)))"
   ]
  },
  {
   "cell_type": "markdown",
   "metadata": {
    "collapsed": true
   },
   "source": [
    "### Técnica de Regularização (Dropout)\n",
    "\n",
    "Criada em 2012 pelo professor da universidade de toronto [Geoffrey E. Hinton](https://en.wikipedia.org/wiki/Geoffrey_Hinton)"
   ]
  },
  {
   "cell_type": "code",
   "execution_count": 14,
   "metadata": {},
   "outputs": [
    {
     "name": "stdout",
     "output_type": "stream",
     "text": [
      "Epoch 1/10\n",
      "33600/33600 [==============================] - 22s - loss: 0.8437 - acc: 0.7697    \n",
      "Epoch 2/10\n",
      "33600/33600 [==============================] - 27s - loss: 0.3870 - acc: 0.8864    \n",
      "Epoch 3/10\n",
      "33600/33600 [==============================] - 30s - loss: 0.3167 - acc: 0.9076    \n",
      "Epoch 4/10\n",
      "33600/33600 [==============================] - 31s - loss: 0.2767 - acc: 0.9185    \n",
      "Epoch 5/10\n",
      "33600/33600 [==============================] - 28s - loss: 0.2463 - acc: 0.9286    \n",
      "Epoch 6/10\n",
      "33600/33600 [==============================] - 30s - loss: 0.2209 - acc: 0.9354    \n",
      "Epoch 7/10\n",
      "33600/33600 [==============================] - 29s - loss: 0.1973 - acc: 0.9426    \n",
      "Epoch 8/10\n",
      "33600/33600 [==============================] - 30s - loss: 0.1842 - acc: 0.9464    \n",
      "Epoch 9/10\n",
      "33600/33600 [==============================] - 21s - loss: 0.1715 - acc: 0.9499    \n",
      "Epoch 10/10\n",
      "33600/33600 [==============================] - 30s - loss: 0.1562 - acc: 0.9558    \n"
     ]
    },
    {
     "data": {
      "text/plain": [
       "<keras.callbacks.History at 0x7f276d33cb38>"
      ]
     },
     "execution_count": 14,
     "metadata": {},
     "output_type": "execute_result"
    }
   ],
   "source": [
    "model = Sequential()\n",
    "\n",
    "model.add(Dense(input_dim=784, units=512))\n",
    "\n",
    "model.add(Activation('relu'))\n",
    "\n",
    "model.add(Dropout(0.2)) # remove 20% dos neurônios\n",
    "\n",
    "model.add(Dense(units=512))\n",
    "\n",
    "model.add(Activation('relu'))\n",
    "\n",
    "model.add(Dropout(0.2)) # remove 20% dos neurônios\n",
    "\n",
    "model.add(Dense(units=10))\n",
    "\n",
    "model.add(Activation('softmax'))\n",
    "\n",
    "model.compile(loss='categorical_crossentropy', optimizer='sgd', metrics=['accuracy'])\n",
    "\n",
    "model.fit(X_train, y_train_onehot)"
   ]
  },
  {
   "cell_type": "code",
   "execution_count": 16,
   "metadata": {},
   "outputs": [
    {
     "name": "stdout",
     "output_type": "stream",
     "text": [
      "_________________________________________________________________\n",
      "Layer (type)                 Output Shape              Param #   \n",
      "=================================================================\n",
      "dense_11 (Dense)             (None, 512)               401920    \n",
      "_________________________________________________________________\n",
      "activation_7 (Activation)    (None, 512)               0         \n",
      "_________________________________________________________________\n",
      "dropout_3 (Dropout)          (None, 512)               0         \n",
      "_________________________________________________________________\n",
      "dense_12 (Dense)             (None, 512)               262656    \n",
      "_________________________________________________________________\n",
      "activation_8 (Activation)    (None, 512)               0         \n",
      "_________________________________________________________________\n",
      "dropout_4 (Dropout)          (None, 512)               0         \n",
      "_________________________________________________________________\n",
      "dense_13 (Dense)             (None, 10)                5130      \n",
      "_________________________________________________________________\n",
      "activation_9 (Activation)    (None, 10)                0         \n",
      "=================================================================\n",
      "Total params: 669,706\n",
      "Trainable params: 669,706\n",
      "Non-trainable params: 0\n",
      "_________________________________________________________________\n"
     ]
    }
   ],
   "source": [
    "model.summary()"
   ]
  },
  {
   "cell_type": "code",
   "execution_count": 17,
   "metadata": {},
   "outputs": [
    {
     "name": "stdout",
     "output_type": "stream",
     "text": [
      "8256/8400 [============================>.] - ETA: 0s\n",
      "\n",
      "Accuracy of:  0.957738095238\n"
     ]
    }
   ],
   "source": [
    "y_prediction = model.predict_classes(X_test)\n",
    "print('\\n\\nAccuracy of: ', np.sum(y_prediction == Y_test) / float(len(Y_test)))"
   ]
  }
 ],
 "metadata": {
  "kernelspec": {
   "display_name": "Python 3",
   "language": "python",
   "name": "python3"
  },
  "language_info": {
   "codemirror_mode": {
    "name": "ipython",
    "version": 3
   },
   "file_extension": ".py",
   "mimetype": "text/x-python",
   "name": "python",
   "nbconvert_exporter": "python",
   "pygments_lexer": "ipython3",
   "version": "3.6.1"
  }
 },
 "nbformat": 4,
 "nbformat_minor": 2
}

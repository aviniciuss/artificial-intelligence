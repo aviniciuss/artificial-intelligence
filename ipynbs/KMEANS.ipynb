{
 "cells": [
  {
   "cell_type": "markdown",
   "metadata": {},
   "source": [
    "### Construindo algoritmo de clusterização com TensorFlow"
   ]
  },
  {
   "cell_type": "code",
   "execution_count": 31,
   "metadata": {
    "collapsed": true
   },
   "outputs": [],
   "source": [
    "import numpy as np\n",
    "import matplotlib.pyplot as plt\n",
    "import tensorflow as tf\n",
    "from sklearn.datasets import load_iris\n",
    "from sklearn.decomposition import PCA\n",
    "from sklearn.preprocessing import scale\n",
    "from tensorflow.python.framework import ops\n",
    "from scipy.spatial import cKDTree"
   ]
  },
  {
   "cell_type": "code",
   "execution_count": 32,
   "metadata": {
    "collapsed": true
   },
   "outputs": [],
   "source": [
    "ops.reset_default_graph()"
   ]
  },
  {
   "cell_type": "code",
   "execution_count": 33,
   "metadata": {
    "collapsed": true
   },
   "outputs": [],
   "source": [
    "sess = tf.Session()"
   ]
  },
  {
   "cell_type": "markdown",
   "metadata": {},
   "source": [
    "#### Carregado o dataset"
   ]
  },
  {
   "cell_type": "code",
   "execution_count": 34,
   "metadata": {
    "collapsed": true
   },
   "outputs": [],
   "source": [
    "iris = load_iris()\n",
    "num_points = len(iris.data)\n",
    "num_features = len(iris.data[0])"
   ]
  },
  {
   "cell_type": "markdown",
   "metadata": {},
   "source": [
    "#### Existem 3 tipos de flores no dataset e como já temos esta informação, definimos o K = 3"
   ]
  },
  {
   "cell_type": "code",
   "execution_count": 35,
   "metadata": {
    "collapsed": true
   },
   "outputs": [],
   "source": [
    "K = 3\n",
    "generations = 20"
   ]
  },
  {
   "cell_type": "markdown",
   "metadata": {},
   "source": [
    "#### Variavéis que serão utilizadas na sessão"
   ]
  },
  {
   "cell_type": "code",
   "execution_count": 36,
   "metadata": {
    "collapsed": true
   },
   "outputs": [],
   "source": [
    "data_points = tf.Variable(iris.data)\n",
    "clusters_labels = tf.Variable(tf.zeros([num_points], dtype=tf.int64))"
   ]
  },
  {
   "cell_type": "markdown",
   "metadata": {},
   "source": [
    "#### Randomicamente escolhendo os pontos de dados e os centróides"
   ]
  },
  {
   "cell_type": "code",
   "execution_count": 37,
   "metadata": {},
   "outputs": [],
   "source": [
    "rand_starts = np.array([iris.data[np.random.choice(len(iris.data))] for _ in range(K)])\n",
    "centroids = tf.Variable(rand_starts)"
   ]
  },
  {
   "cell_type": "markdown",
   "metadata": {},
   "source": [
    "#### Agora precisamos calcular as distâncias entre cada um do pontos de dados e cada um dos centróides. Fazemos isso expandido os centróides em uma matriz e o mesmo para os pontos de dados. Vamos então calcular as ditâncias euclidianas entre as duas matrizes."
   ]
  },
  {
   "cell_type": "code",
   "execution_count": 38,
   "metadata": {
    "collapsed": true
   },
   "outputs": [],
   "source": [
    "centroid_matrix = tf.reshape(tf.tile(centroids, [num_points, 1]), [num_points, K, num_features])"
   ]
  },
  {
   "cell_type": "markdown",
   "metadata": {},
   "source": [
    "#### Então nós remodelamos os pontos de dados em K (3) repedições"
   ]
  },
  {
   "cell_type": "code",
   "execution_count": 39,
   "metadata": {},
   "outputs": [],
   "source": [
    "point_matrix = tf.reshape(tf.tile(data_points, [1, K]), [num_points, K, num_features])\n",
    "distances = tf.reduce_sum(tf.square(point_matrix - centroid_matrix), reduction_indices = 2)"
   ]
  },
  {
   "cell_type": "markdown",
   "metadata": {},
   "source": [
    "#### A atribuição do centróide é então o centróide mais proxímo (menor distância) para cada ponto de dados."
   ]
  },
  {
   "cell_type": "code",
   "execution_count": 40,
   "metadata": {
    "collapsed": true
   },
   "outputs": [],
   "source": [
    "centroid_group = tf.argmin(distances, 1)"
   ]
  },
  {
   "cell_type": "markdown",
   "metadata": {},
   "source": [
    "#### Encontrar a média (means) ao grupo para obter o novo centróide"
   ]
  },
  {
   "cell_type": "code",
   "execution_count": 41,
   "metadata": {
    "collapsed": true
   },
   "outputs": [],
   "source": [
    "def data_group_avg(group_ids, data):\n",
    "    sum_total = tf.unsorted_segment_sum(data, group_ids, 3)\n",
    "    num_total = tf.unsorted_segment_sum(tf.ones_like(data), group_ids, 3)\n",
    "    avg_by_group = sum_total / num_total\n",
    "    return avg_by_group"
   ]
  },
  {
   "cell_type": "code",
   "execution_count": 42,
   "metadata": {
    "collapsed": true
   },
   "outputs": [],
   "source": [
    "means = data_group_avg(centroid_group, data_points)"
   ]
  },
  {
   "cell_type": "code",
   "execution_count": 43,
   "metadata": {
    "collapsed": true
   },
   "outputs": [],
   "source": [
    "update = tf.group(centroids.assign(means), clusters_labels.assign(centroid_group))"
   ]
  },
  {
   "cell_type": "code",
   "execution_count": 44,
   "metadata": {},
   "outputs": [],
   "source": [
    "init = tf.global_variables_initializer()"
   ]
  },
  {
   "cell_type": "code",
   "execution_count": 45,
   "metadata": {
    "collapsed": true
   },
   "outputs": [],
   "source": [
    "sess.run(init)"
   ]
  },
  {
   "cell_type": "code",
   "execution_count": 46,
   "metadata": {},
   "outputs": [
    {
     "name": "stdout",
     "output_type": "stream",
     "text": [
      "Calculate gen 0, out of 20.\n",
      "Number of groups: [34, 50, 66]\n",
      "Calculate gen 1, out of 20.\n",
      "Number of groups: [37, 50, 63]\n",
      "Calculate gen 2, out of 20.\n",
      "Number of groups: [41, 50, 59]\n",
      "Calculate gen 3, out of 20.\n",
      "Number of groups: [46, 50, 54]\n",
      "Calculate gen 4, out of 20.\n",
      "Number of groups: [50, 50, 50]\n",
      "Calculate gen 5, out of 20.\n",
      "Number of groups: [54, 50, 46]\n",
      "Calculate gen 6, out of 20.\n",
      "Number of groups: [57, 50, 43]\n",
      "Calculate gen 7, out of 20.\n",
      "Number of groups: [60, 50, 40]\n",
      "Calculate gen 8, out of 20.\n",
      "Number of groups: [61, 50, 39]\n",
      "Calculate gen 9, out of 20.\n",
      "Number of groups: [61, 50, 39]\n",
      "Calculate gen 10, out of 20.\n",
      "Number of groups: [61, 50, 39]\n",
      "Calculate gen 11, out of 20.\n",
      "Number of groups: [61, 50, 39]\n",
      "Calculate gen 12, out of 20.\n",
      "Number of groups: [61, 50, 39]\n",
      "Calculate gen 13, out of 20.\n",
      "Number of groups: [61, 50, 39]\n",
      "Calculate gen 14, out of 20.\n",
      "Number of groups: [61, 50, 39]\n",
      "Calculate gen 15, out of 20.\n",
      "Number of groups: [61, 50, 39]\n",
      "Calculate gen 16, out of 20.\n",
      "Number of groups: [61, 50, 39]\n",
      "Calculate gen 17, out of 20.\n",
      "Number of groups: [61, 50, 39]\n",
      "Calculate gen 18, out of 20.\n",
      "Number of groups: [61, 50, 39]\n",
      "Calculate gen 19, out of 20.\n",
      "Number of groups: [61, 50, 39]\n"
     ]
    }
   ],
   "source": [
    "for i in range(generations):\n",
    "    print('Calculate gen {}, out of {}.'.format(i, generations))\n",
    "    _, centroid_group_count = sess.run([update, centroid_group])\n",
    "    group_count = []\n",
    "    for ix in range(K):\n",
    "        group_count.append(np.sum(centroid_group_count == ix))\n",
    "    print('Number of groups: {}'.format(group_count))"
   ]
  },
  {
   "cell_type": "code",
   "execution_count": 47,
   "metadata": {
    "collapsed": true
   },
   "outputs": [],
   "source": [
    "[centers, assigments] = sess.run([centroids, clusters_labels])"
   ]
  },
  {
   "cell_type": "code",
   "execution_count": 48,
   "metadata": {
    "collapsed": true
   },
   "outputs": [],
   "source": [
    "def most_common(my_list):\n",
    "    return max(set(my_list), key = my_list.count)"
   ]
  },
  {
   "cell_type": "code",
   "execution_count": 49,
   "metadata": {
    "collapsed": true
   },
   "outputs": [],
   "source": [
    "label0 = most_common(list(assigments[0:50]))\n",
    "label1 = most_common(list(assigments[50:100]))\n",
    "label2 = most_common(list(assigments[100:150]))"
   ]
  },
  {
   "cell_type": "code",
   "execution_count": 50,
   "metadata": {
    "collapsed": true
   },
   "outputs": [],
   "source": [
    "group0_count = np.sum(assigments[0:50] == label0)\n",
    "group1_count = np.sum(assigments[50:100] == label1)\n",
    "group2_count = np.sum(assigments[100:150] == label2)"
   ]
  },
  {
   "cell_type": "code",
   "execution_count": 51,
   "metadata": {
    "collapsed": true
   },
   "outputs": [],
   "source": [
    "accuracy = (group0_count + group1_count + group2_count) / 150."
   ]
  },
  {
   "cell_type": "code",
   "execution_count": 52,
   "metadata": {},
   "outputs": [
    {
     "name": "stdout",
     "output_type": "stream",
     "text": [
      "Accuracy: 0.89\n"
     ]
    }
   ],
   "source": [
    "print('Accuracy: {:.2}'.format(accuracy))"
   ]
  },
  {
   "cell_type": "code",
   "execution_count": 53,
   "metadata": {
    "collapsed": true
   },
   "outputs": [],
   "source": [
    "pca_model = PCA(n_components=2)\n",
    "reduced_data = pca_model.fit_transform(iris.data)"
   ]
  },
  {
   "cell_type": "code",
   "execution_count": 54,
   "metadata": {
    "collapsed": true
   },
   "outputs": [],
   "source": [
    "reduced_centers = pca_model.transform(centers)"
   ]
  },
  {
   "cell_type": "code",
   "execution_count": 55,
   "metadata": {
    "collapsed": true
   },
   "outputs": [],
   "source": [
    "h = .02"
   ]
  },
  {
   "cell_type": "code",
   "execution_count": 56,
   "metadata": {
    "collapsed": true
   },
   "outputs": [],
   "source": [
    "x_min, x_max = reduced_data[:,0].min() - 1, reduced_data[:,0].max() + 1\n",
    "y_min, y_max = reduced_data[:,1].min() - 1, reduced_data[:,1].max() + 1\n",
    "xx, yy = np.meshgrid(np.arange(x_min, x_max, h), np.arange(y_min, y_max, h))"
   ]
  },
  {
   "cell_type": "code",
   "execution_count": 57,
   "metadata": {
    "collapsed": true
   },
   "outputs": [],
   "source": [
    "xx_pt = list(xx.ravel())\n",
    "yy_pt = list(yy.ravel())\n",
    "xy_pts = np.array([[x,y] for x,y in zip(xx_pt, yy_pt)]) \n",
    "mytree = cKDTree(reduced_centers)\n",
    "dist, indexs = mytree.query(xy_pts)"
   ]
  },
  {
   "cell_type": "code",
   "execution_count": 61,
   "metadata": {},
   "outputs": [
    {
     "data": {
      "text/plain": [
       "<matplotlib.image.AxesImage at 0x7fd7e9d684e0>"
      ]
     },
     "execution_count": 61,
     "metadata": {},
     "output_type": "execute_result"
    }
   ],
   "source": [
    "indexs = indexs.reshape(xx.shape)\n",
    "plt.figure(1)\n",
    "plt.clf()\n",
    "plt.imshow(indexs, interpolation='nearest', extent=(xx.min(), xx.max(), yy.min(), yy.max()), cmap=plt.cm.Paired,\n",
    "          aspect='auto', origin='lower')"
   ]
  },
  {
   "cell_type": "code",
   "execution_count": 63,
   "metadata": {},
   "outputs": [],
   "source": [
    "symbols = ['o','^','D']\n",
    "label_name = ['Setosa', 'Versicolor', 'Virginica']\n",
    "for i in range(3):\n",
    "    temp_group = reduced_data[(i*50):(50)*(i+1)]\n",
    "    plt.plot(temp_group[:,0], temp_group[:,1], symbols[i], markersize=10, label=label_name[i])"
   ]
  },
  {
   "cell_type": "code",
   "execution_count": 64,
   "metadata": {},
   "outputs": [
    {
     "data": {
      "image/png": "[encoded data removed]",
      "text/plain": [
       "<matplotlib.figure.Figure at 0x7fd7fc77f080>"
      ]
     },
     "metadata": {},
     "output_type": "display_data"
    }
   ],
   "source": [
    "plt.scatter(reduced_centers[:,0], reduced_centers[:,1], marker='x', s=169, linewidths=3, color='w', zorder=10)\n",
    "plt.title('Clustering K-means in dataset Iris')\n",
    "plt.xlim(x_min, x_max)\n",
    "plt.ylim(y_min, y_max)\n",
    "plt.legend(loc='lower right')\n",
    "plt.show()"
   ]
  },
  {
   "cell_type": "code",
   "execution_count": null,
   "metadata": {
    "collapsed": true
   },
   "outputs": [],
   "source": []
  }
 ],
 "metadata": {
  "kernelspec": {
   "display_name": "Python 3",
   "language": "python",
   "name": "python3"
  },
  "language_info": {
   "codemirror_mode": {
    "name": "ipython",
    "version": 3
   },
   "file_extension": ".py",
   "mimetype": "text/x-python",
   "name": "python",
   "nbconvert_exporter": "python",
   "pygments_lexer": "ipython3",
   "version": "3.6.1"
  }
 },
 "nbformat": 4,
 "nbformat_minor": 2
}

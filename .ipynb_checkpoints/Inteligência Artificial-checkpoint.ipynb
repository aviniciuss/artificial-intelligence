{
 "cells": [
  {
   "cell_type": "markdown",
   "metadata": {},
   "source": [
    "# Inteligência Artificial\n",
    "## Introdução\n",
    "\n",
    "Literatura utilizada: \n",
    "- [Inteligência Artificial](https://www.amazon.com.br/Intelig%C3%AAncia-Artificial-Peter-Norvig/dp/8535237011?tag=goog0ef-20&smid=A1ZZFT5FULY4LN&ascsubtag=96d0a385-f6d5-4fff-9a09-b10c2b0c3f68)\n",
    "\n",
    "Somos denominados como espécie Homo sapiens — homem sábio — porque nossa inteligência é tão importante para nós. Durante milhares de anos tentamos entender como pensamos, isto é, como um mero punhado de matéria pode perceber, compreender, prever e manipular um mundo bem mair e mais complicado do que ela própria. O campo da <b>Inteligência Artificial</b>, ou <b>IA</b>, vai ainda mais além: não tenta apenas compreender mais também construir entidades inteligentes.\n",
    "\n",
    "A <b>IA</b> é um dos campos mais recentes em ciências e engenharia. O trabalho começou logo após a Segunda Guerra Mundial, e o próprio nome foi cunhado em 1956. Juntamente com a biologia molecular, a <b>IA</b> é citada regularmente como “o campo que eu gostaria de estudar” por cientistas de outras disciplinas. Um aluno de física pode argumentar, com boa dose de razão, que todas as boas ideias já foram desenvolvidas por Galileu, Newton, Einstein e outros brilhantes cientistas. <b>IA</b>, por outro, ainda tem espaço para vários brilhantes cientistas como Einstein, Newton e Galileu.\n",
    "\n",
    "<b>O que é IA ?</b>\n",
    "\n",
    "Sabemos que a <b>IA</b> é interessante, mas não falamos o que ela é. Podemos visualizar oito definições de <b>IA</b>, dispostas ao longo de duas dimensões. Em linhas gerais, as que estão na parte superior da tabela se relacionam a processos de pensamento e raciocínio, enquanto as definições da parte inferior se referem ao comportamento. As definições do lado esquerdo medem o sucesso em termos de fidelidade ao desempenho humano, enquanto as definições do lado direito medem o sucesso comparando-o a um conceito ideal de inteligência, chamada de <b>racionalidade</b>. Um sistema é racional se “faz a coisa certa”, dado o que ele sabe.\n",
    "\n",
    "![](./images/definições.png)\n",
    "\n",
    "Historicamente, todas as quatro estratégias para o estudo de <b>IA</b> têm sido seguidas, cada uma delas por pessoas diferentes com métodos diferentes. Uma abordagem centrada nos seres humanos deve ser em parte uma ciência empírica, envolvendo hipóteses e configuração experimental. Uma abordagem racionalista envolve uma combinação de matemática e engenharia. Cada grupo tem ao mesmo tempo desacreditado e ajudado o outro.\n",
    "\n",
    "<b>Agindo de forma humana: a abordagem do teste de Turing</b>\n",
    "\n",
    "O <b>teste de Turing</b>, proposto por Alan Turing (1950), foi projetado para fornecer um definição operacional satisfatório de inteligência. O computador passará no teste se um interrogador humano, depois de propor algumas perguntas por escrito, não conseguir descobrir se as respostas escritas vêm de uma pessoa ou de um computador. Sabemos que programar um computador pelo teste exige muito trabalho. O computador precisa ter as seguintes capacidades:\n",
    "\n",
    "- <b>processamento de linguagem natural</b> para permitir uma comunicação em um idioma natural;\n",
    "- <b>representação de conhecimento</b> para armazenar o que sabe ou ouve;\n",
    "- <b>raciocínio automatizado</b> para usar as informações armazenadas com a finalidade de responder as perguntas e tirar novas conclusões;\n",
    "- <b>aprendizado de máquina</b> para se adaptar a novas circunstâncias e para detectar e explorar padrões.\n",
    "\n",
    "O <b>teste de Turing</b> evitou deliberadamente a interação física direta entre o interrogador e o computador porque a simulação física de uma pessoa é desnecessária para a inteligência. Entretanto, o chamado <b>teste de Turing total</b> inclui um sinal de vídeo, de forma que o interrogador possa testar as habilidades de percepção do indivíduo, além de oferecer ao interrogador a oportunidade de repassar objetos físicos “pela janelinha”. Para ser aprovado no teste, o computador precisará de:\n",
    "\n",
    "- <b>visão computacional</b> para receber objetos;\n",
    "- <b>robótica</b> para manipular objetos e movimentar-se.\n",
    "\n",
    "Essas seis disciplinas compõem a maior parte da <b>IA</b>, e Turing merece crédito por projetar um teste que permanece relevante depois de 60 anos. Ainda assim, os pesquisadores da <b>IA</b> têm dedicado pouco esforço à aprovação no teste de Turing, acreditando que seja mais importante estudar os princípios básicos da inteligência do que reproduzir exemplar. O desafio do “voo artificial” teve sucesso quando os irmãos Wright e outros pesquisadores pararam de imitar os pássaros e começaram a usar túneis de vento e aprender sobre aerodinâmica.\n",
    "\n",
    "<b>Pensando de forma humana: a estratégia de modelagem cognitiva</b>\n",
    "\n",
    "## Agentes Inteligentes"
   ]
  }
 ],
 "metadata": {
  "kernelspec": {
   "display_name": "Python 3",
   "language": "python",
   "name": "python3"
  },
  "language_info": {
   "codemirror_mode": {
    "name": "ipython",
    "version": 3
   },
   "file_extension": ".py",
   "mimetype": "text/x-python",
   "name": "python",
   "nbconvert_exporter": "python",
   "pygments_lexer": "ipython3",
   "version": "3.6.1"
  }
 },
 "nbformat": 4,
 "nbformat_minor": 2
}
